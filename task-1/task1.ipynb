{
 "cells": [
  {
   "cell_type": "code",
   "execution_count": 1,
   "metadata": {
    "execution": {
     "iopub.execute_input": "2025-09-25T16:50:25.114229Z",
     "iopub.status.busy": "2025-09-25T16:50:25.114229Z",
     "iopub.status.idle": "2025-09-25T16:50:26.199751Z",
     "shell.execute_reply": "2025-09-25T16:50:26.199751Z"
    }
   },
   "outputs": [],
   "source": [
    "import pandas as pd\n",
    "import numpy as np\n",
    "import matplotlib.pyplot as plt\n",
    "import seaborn as sns"
   ]
  },
  {
   "cell_type": "code",
   "execution_count": 2,
   "metadata": {
    "execution": {
     "iopub.execute_input": "2025-09-25T16:50:26.201760Z",
     "iopub.status.busy": "2025-09-25T16:50:26.201760Z",
     "iopub.status.idle": "2025-09-25T16:50:26.515093Z",
     "shell.execute_reply": "2025-09-25T16:50:26.515093Z"
    }
   },
   "outputs": [
    {
     "data": {
      "text/html": [
       "<div>\n",
       "<style scoped>\n",
       "    .dataframe tbody tr th:only-of-type {\n",
       "        vertical-align: middle;\n",
       "    }\n",
       "\n",
       "    .dataframe tbody tr th {\n",
       "        vertical-align: top;\n",
       "    }\n",
       "\n",
       "    .dataframe thead th {\n",
       "        text-align: right;\n",
       "    }\n",
       "</style>\n",
       "<table border=\"1\" class=\"dataframe\">\n",
       "  <thead>\n",
       "    <tr style=\"text-align: right;\">\n",
       "      <th></th>\n",
       "      <th>Primary Key</th>\n",
       "      <th>Order Date</th>\n",
       "      <th>Product Category</th>\n",
       "      <th>Complaint</th>\n",
       "      <th>Cause</th>\n",
       "      <th>Correction</th>\n",
       "      <th>Root Cause</th>\n",
       "      <th>Symptom Condition 1</th>\n",
       "      <th>Symptom Component 1</th>\n",
       "      <th>Symptom Condition 2</th>\n",
       "      <th>Symptom Component 2</th>\n",
       "      <th>Symptom Condition 3</th>\n",
       "      <th>Symptom Component 3</th>\n",
       "      <th>Fix Condition 1</th>\n",
       "      <th>Fix Component 1</th>\n",
       "      <th>Fix Condition 2</th>\n",
       "      <th>Fix Component 2</th>\n",
       "      <th>Fix Condition 3</th>\n",
       "      <th>Fix Component 3</th>\n",
       "    </tr>\n",
       "  </thead>\n",
       "  <tbody>\n",
       "    <tr>\n",
       "      <th>0</th>\n",
       "      <td>SO0026296-1</td>\n",
       "      <td>2023-03-08</td>\n",
       "      <td>SPRAYS</td>\n",
       "      <td>VISIBLY NOTICE fasteners under cab on P clips ...</td>\n",
       "      <td>Not tighten at factory.</td>\n",
       "      <td>GO THROUGH AND RE-TIGHTEN ALL P CLIPS, NUTS, A...</td>\n",
       "      <td>Not Tightened</td>\n",
       "      <td>Loose</td>\n",
       "      <td>Cab P Clip</td>\n",
       "      <td>Loose</td>\n",
       "      <td>Left-Air Duct</td>\n",
       "      <td>Loose</td>\n",
       "      <td>Bulkhead Connector</td>\n",
       "      <td>Retightened</td>\n",
       "      <td>Cab P Clip</td>\n",
       "      <td>Retightened</td>\n",
       "      <td>Left Air Duct</td>\n",
       "      <td>Retightened</td>\n",
       "      <td>Bulkhead Connector</td>\n",
       "    </tr>\n",
       "    <tr>\n",
       "      <th>1</th>\n",
       "      <td>SO0026385-1</td>\n",
       "      <td>2023-03-08</td>\n",
       "      <td>SPRAYS</td>\n",
       "      <td>Fuel door will not stay open</td>\n",
       "      <td>GAS STRUT NOT INSTALLED OR ANYWHERE ON MACHINE</td>\n",
       "      <td>FOUND GAS STRUT NOT INSTALLED OR ANYWHERE ON M...</td>\n",
       "      <td>Not Installed</td>\n",
       "      <td>Won't stay open</td>\n",
       "      <td>Fuel Door</td>\n",
       "      <td>NaN</td>\n",
       "      <td>NaN</td>\n",
       "      <td>NaN</td>\n",
       "      <td>NaN</td>\n",
       "      <td>Installed</td>\n",
       "      <td>Gas Strut</td>\n",
       "      <td>NaN</td>\n",
       "      <td>NaN</td>\n",
       "      <td>NaN</td>\n",
       "      <td>NaN</td>\n",
       "    </tr>\n",
       "    <tr>\n",
       "      <th>2</th>\n",
       "      <td>SO0026385-11</td>\n",
       "      <td>2023-03-08</td>\n",
       "      <td>SPRAYS</td>\n",
       "      <td>Compressor pressure line, braided steel, crushed</td>\n",
       "      <td>Compressor pressure line, braided steel, crush...</td>\n",
       "      <td>DRAIN AIR FROM SYSTEM.REMOVE ASSOCIATED P CLIP...</td>\n",
       "      <td>NaN</td>\n",
       "      <td>NaN</td>\n",
       "      <td>NaN</td>\n",
       "      <td>NaN</td>\n",
       "      <td>NaN</td>\n",
       "      <td>NaN</td>\n",
       "      <td>NaN</td>\n",
       "      <td>NaN</td>\n",
       "      <td>NaN</td>\n",
       "      <td>NaN</td>\n",
       "      <td>NaN</td>\n",
       "      <td>NaN</td>\n",
       "      <td>NaN</td>\n",
       "    </tr>\n",
       "    <tr>\n",
       "      <th>3</th>\n",
       "      <td>SO0028352-1</td>\n",
       "      <td>2023-03-08</td>\n",
       "      <td>SPRAYS</td>\n",
       "      <td>Oil running from bottom of machine</td>\n",
       "      <td>OIL RETURN UNDER MACHINE SWIVEL FITTING LEFT L...</td>\n",
       "      <td>OIL RETURN UNDER MACHINE SWIVEL FITTING LEFT L...</td>\n",
       "      <td>NaN</td>\n",
       "      <td>NaN</td>\n",
       "      <td>NaN</td>\n",
       "      <td>NaN</td>\n",
       "      <td>NaN</td>\n",
       "      <td>NaN</td>\n",
       "      <td>NaN</td>\n",
       "      <td>NaN</td>\n",
       "      <td>NaN</td>\n",
       "      <td>NaN</td>\n",
       "      <td>NaN</td>\n",
       "      <td>NaN</td>\n",
       "      <td>NaN</td>\n",
       "    </tr>\n",
       "    <tr>\n",
       "      <th>4</th>\n",
       "      <td>SO0028770-1</td>\n",
       "      <td>2023-03-08</td>\n",
       "      <td>SPRAYS</td>\n",
       "      <td>MISSING VECTOR &amp; INTRIP UNLOCKS.</td>\n",
       "      <td>MISSING VECTOR &amp; INTRIP UNLOCKS WERE NOT INSTA...</td>\n",
       "      <td>INSTALLED MISSING UNLOCKS RAN AND TESTED.</td>\n",
       "      <td>NaN</td>\n",
       "      <td>NaN</td>\n",
       "      <td>NaN</td>\n",
       "      <td>NaN</td>\n",
       "      <td>NaN</td>\n",
       "      <td>NaN</td>\n",
       "      <td>NaN</td>\n",
       "      <td>NaN</td>\n",
       "      <td>NaN</td>\n",
       "      <td>NaN</td>\n",
       "      <td>NaN</td>\n",
       "      <td>NaN</td>\n",
       "      <td>NaN</td>\n",
       "    </tr>\n",
       "  </tbody>\n",
       "</table>\n",
       "</div>"
      ],
      "text/plain": [
       "    Primary Key Order Date Product Category  \\\n",
       "0   SO0026296-1 2023-03-08           SPRAYS   \n",
       "1   SO0026385-1 2023-03-08           SPRAYS   \n",
       "2  SO0026385-11 2023-03-08           SPRAYS   \n",
       "3   SO0028352-1 2023-03-08           SPRAYS   \n",
       "4   SO0028770-1 2023-03-08           SPRAYS   \n",
       "\n",
       "                                           Complaint  \\\n",
       "0  VISIBLY NOTICE fasteners under cab on P clips ...   \n",
       "1                       Fuel door will not stay open   \n",
       "2   Compressor pressure line, braided steel, crushed   \n",
       "3                 Oil running from bottom of machine   \n",
       "4                   MISSING VECTOR & INTRIP UNLOCKS.   \n",
       "\n",
       "                                               Cause  \\\n",
       "0                            Not tighten at factory.   \n",
       "1     GAS STRUT NOT INSTALLED OR ANYWHERE ON MACHINE   \n",
       "2  Compressor pressure line, braided steel, crush...   \n",
       "3  OIL RETURN UNDER MACHINE SWIVEL FITTING LEFT L...   \n",
       "4  MISSING VECTOR & INTRIP UNLOCKS WERE NOT INSTA...   \n",
       "\n",
       "                                          Correction     Root Cause  \\\n",
       "0  GO THROUGH AND RE-TIGHTEN ALL P CLIPS, NUTS, A...  Not Tightened   \n",
       "1  FOUND GAS STRUT NOT INSTALLED OR ANYWHERE ON M...  Not Installed   \n",
       "2  DRAIN AIR FROM SYSTEM.REMOVE ASSOCIATED P CLIP...            NaN   \n",
       "3  OIL RETURN UNDER MACHINE SWIVEL FITTING LEFT L...            NaN   \n",
       "4          INSTALLED MISSING UNLOCKS RAN AND TESTED.            NaN   \n",
       "\n",
       "  Symptom Condition 1 Symptom Component 1 Symptom Condition 2  \\\n",
       "0               Loose          Cab P Clip               Loose   \n",
       "1     Won't stay open           Fuel Door                 NaN   \n",
       "2                 NaN                 NaN                 NaN   \n",
       "3                 NaN                 NaN                 NaN   \n",
       "4                 NaN                 NaN                 NaN   \n",
       "\n",
       "  Symptom Component 2 Symptom Condition 3 Symptom Component 3 Fix Condition 1  \\\n",
       "0       Left-Air Duct               Loose  Bulkhead Connector     Retightened   \n",
       "1                 NaN                 NaN                 NaN       Installed   \n",
       "2                 NaN                 NaN                 NaN             NaN   \n",
       "3                 NaN                 NaN                 NaN             NaN   \n",
       "4                 NaN                 NaN                 NaN             NaN   \n",
       "\n",
       "  Fix Component 1 Fix Condition 2 Fix Component 2 Fix Condition 3  \\\n",
       "0      Cab P Clip     Retightened   Left Air Duct     Retightened   \n",
       "1       Gas Strut             NaN             NaN             NaN   \n",
       "2             NaN             NaN             NaN             NaN   \n",
       "3             NaN             NaN             NaN             NaN   \n",
       "4             NaN             NaN             NaN             NaN   \n",
       "\n",
       "      Fix Component 3  \n",
       "0  Bulkhead Connector  \n",
       "1                 NaN  \n",
       "2                 NaN  \n",
       "3                 NaN  \n",
       "4                 NaN  "
      ]
     },
     "execution_count": 2,
     "metadata": {},
     "output_type": "execute_result"
    }
   ],
   "source": [
    "df = pd.read_excel(\"task_dataset.xlsx\")\n",
    "df.head()"
   ]
  },
  {
   "cell_type": "code",
   "execution_count": 3,
   "metadata": {
    "execution": {
     "iopub.execute_input": "2025-09-25T16:50:26.554174Z",
     "iopub.status.busy": "2025-09-25T16:50:26.553190Z",
     "iopub.status.idle": "2025-09-25T16:50:26.557091Z",
     "shell.execute_reply": "2025-09-25T16:50:26.557091Z"
    }
   },
   "outputs": [
    {
     "data": {
      "text/plain": [
       "(20, 19)"
      ]
     },
     "execution_count": 3,
     "metadata": {},
     "output_type": "execute_result"
    }
   ],
   "source": [
    "df.shape"
   ]
  },
  {
   "cell_type": "code",
   "execution_count": 4,
   "metadata": {
    "execution": {
     "iopub.execute_input": "2025-09-25T16:50:26.561098Z",
     "iopub.status.busy": "2025-09-25T16:50:26.561098Z",
     "iopub.status.idle": "2025-09-25T16:50:26.568031Z",
     "shell.execute_reply": "2025-09-25T16:50:26.567023Z"
    }
   },
   "outputs": [
    {
     "data": {
      "text/plain": [
       "Index(['Primary Key', 'Order Date', 'Product Category', 'Complaint', 'Cause',\n",
       "       'Correction', 'Root Cause', 'Symptom Condition 1',\n",
       "       'Symptom Component 1', 'Symptom Condition 2', 'Symptom Component 2',\n",
       "       'Symptom Condition 3', 'Symptom Component 3', 'Fix Condition 1',\n",
       "       'Fix Component 1', 'Fix Condition 2', 'Fix Component 2',\n",
       "       'Fix Condition 3', 'Fix Component 3'],\n",
       "      dtype='object')"
      ]
     },
     "execution_count": 4,
     "metadata": {},
     "output_type": "execute_result"
    }
   ],
   "source": [
    "df.columns"
   ]
  },
  {
   "cell_type": "code",
   "execution_count": 5,
   "metadata": {
    "execution": {
     "iopub.execute_input": "2025-09-25T16:50:26.570049Z",
     "iopub.status.busy": "2025-09-25T16:50:26.570049Z",
     "iopub.status.idle": "2025-09-25T16:50:26.578205Z",
     "shell.execute_reply": "2025-09-25T16:50:26.578205Z"
    }
   },
   "outputs": [
    {
     "name": "stdout",
     "output_type": "stream",
     "text": [
      "<class 'pandas.core.frame.DataFrame'>\n",
      "RangeIndex: 20 entries, 0 to 19\n",
      "Data columns (total 19 columns):\n",
      " #   Column               Non-Null Count  Dtype         \n",
      "---  ------               --------------  -----         \n",
      " 0   Primary Key          20 non-null     object        \n",
      " 1   Order Date           20 non-null     datetime64[ns]\n",
      " 2   Product Category     20 non-null     object        \n",
      " 3   Complaint            20 non-null     object        \n",
      " 4   Cause                20 non-null     object        \n",
      " 5   Correction           20 non-null     object        \n",
      " 6   Root Cause           2 non-null      object        \n",
      " 7   Symptom Condition 1  2 non-null      object        \n",
      " 8   Symptom Component 1  2 non-null      object        \n",
      " 9   Symptom Condition 2  1 non-null      object        \n",
      " 10  Symptom Component 2  1 non-null      object        \n",
      " 11  Symptom Condition 3  1 non-null      object        \n",
      " 12  Symptom Component 3  1 non-null      object        \n",
      " 13  Fix Condition 1      2 non-null      object        \n",
      " 14  Fix Component 1      2 non-null      object        \n",
      " 15  Fix Condition 2      1 non-null      object        \n",
      " 16  Fix Component 2      1 non-null      object        \n",
      " 17  Fix Condition 3      1 non-null      object        \n",
      " 18  Fix Component 3      1 non-null      object        \n",
      "dtypes: datetime64[ns](1), object(18)\n",
      "memory usage: 3.1+ KB\n"
     ]
    }
   ],
   "source": [
    "df.info()"
   ]
  },
  {
   "cell_type": "code",
   "execution_count": 6,
   "metadata": {
    "execution": {
     "iopub.execute_input": "2025-09-25T16:50:26.580714Z",
     "iopub.status.busy": "2025-09-25T16:50:26.580714Z",
     "iopub.status.idle": "2025-09-25T16:50:26.585241Z",
     "shell.execute_reply": "2025-09-25T16:50:26.585241Z"
    }
   },
   "outputs": [
    {
     "data": {
      "text/plain": [
       "Primary Key             0\n",
       "Order Date              0\n",
       "Product Category        0\n",
       "Complaint               0\n",
       "Cause                   0\n",
       "Correction              0\n",
       "Root Cause             18\n",
       "Symptom Condition 1    18\n",
       "Symptom Component 1    18\n",
       "Symptom Condition 2    19\n",
       "Symptom Component 2    19\n",
       "Symptom Condition 3    19\n",
       "Symptom Component 3    19\n",
       "Fix Condition 1        18\n",
       "Fix Component 1        18\n",
       "Fix Condition 2        19\n",
       "Fix Component 2        19\n",
       "Fix Condition 3        19\n",
       "Fix Component 3        19\n",
       "dtype: int64"
      ]
     },
     "execution_count": 6,
     "metadata": {},
     "output_type": "execute_result"
    }
   ],
   "source": [
    "df.isna().sum()"
   ]
  },
  {
   "cell_type": "code",
   "execution_count": 7,
   "metadata": {
    "execution": {
     "iopub.execute_input": "2025-09-25T16:50:26.587202Z",
     "iopub.status.busy": "2025-09-25T16:50:26.587202Z",
     "iopub.status.idle": "2025-09-25T16:50:26.651709Z",
     "shell.execute_reply": "2025-09-25T16:50:26.650702Z"
    }
   },
   "outputs": [
    {
     "data": {
      "text/html": [
       "<div>\n",
       "<style scoped>\n",
       "    .dataframe tbody tr th:only-of-type {\n",
       "        vertical-align: middle;\n",
       "    }\n",
       "\n",
       "    .dataframe tbody tr th {\n",
       "        vertical-align: top;\n",
       "    }\n",
       "\n",
       "    .dataframe thead th {\n",
       "        text-align: right;\n",
       "    }\n",
       "</style>\n",
       "<table border=\"1\" class=\"dataframe\">\n",
       "  <thead>\n",
       "    <tr style=\"text-align: right;\">\n",
       "      <th></th>\n",
       "      <th>Root Cause</th>\n",
       "      <th>Symptom Condition</th>\n",
       "      <th>Symptom Component</th>\n",
       "      <th>Fix Condition</th>\n",
       "      <th>Fix Component</th>\n",
       "    </tr>\n",
       "  </thead>\n",
       "  <tbody>\n",
       "    <tr>\n",
       "      <th>0</th>\n",
       "      <td>Not Tightened</td>\n",
       "      <td>Loose</td>\n",
       "      <td>Cab P Clip</td>\n",
       "      <td>Retightened</td>\n",
       "      <td>Cab P Clip</td>\n",
       "    </tr>\n",
       "    <tr>\n",
       "      <th>1</th>\n",
       "      <td>Not Installed</td>\n",
       "      <td>Won't stay open</td>\n",
       "      <td>Fuel Door</td>\n",
       "      <td>Installed</td>\n",
       "      <td>Gas Strut</td>\n",
       "    </tr>\n",
       "    <tr>\n",
       "      <th>2</th>\n",
       "      <td>Not Mentioned</td>\n",
       "      <td>Crushed</td>\n",
       "      <td>Compressor Pressure Line</td>\n",
       "      <td>Replaced</td>\n",
       "      <td>Braided Steel</td>\n",
       "    </tr>\n",
       "    <tr>\n",
       "      <th>3</th>\n",
       "      <td>Loosened</td>\n",
       "      <td>Oil Running</td>\n",
       "      <td>Not Mentioned</td>\n",
       "      <td>Topped Off</td>\n",
       "      <td>O-Ring</td>\n",
       "    </tr>\n",
       "    <tr>\n",
       "      <th>4</th>\n",
       "      <td>Not Included</td>\n",
       "      <td>Missing</td>\n",
       "      <td>Vector</td>\n",
       "      <td>Not Mentioned</td>\n",
       "      <td>Vector</td>\n",
       "    </tr>\n",
       "  </tbody>\n",
       "</table>\n",
       "</div>"
      ],
      "text/plain": [
       "      Root Cause Symptom Condition          Symptom Component  Fix Condition  \\\n",
       "0  Not Tightened              Loose                Cab P Clip    Retightened   \n",
       "1  Not Installed    Won't stay open                 Fuel Door      Installed   \n",
       "2  Not Mentioned            Crushed  Compressor Pressure Line       Replaced   \n",
       "3       Loosened        Oil Running             Not Mentioned     Topped Off   \n",
       "4   Not Included            Missing                    Vector  Not Mentioned   \n",
       "\n",
       "   Fix Component  \n",
       "0     Cab P Clip  \n",
       "1      Gas Strut  \n",
       "2  Braided Steel  \n",
       "3         O-Ring  \n",
       "4         Vector  "
      ]
     },
     "execution_count": 7,
     "metadata": {},
     "output_type": "execute_result"
    }
   ],
   "source": [
    "taxonomy_df = pd.read_excel(\"task_dataset.xlsx\", sheet_name='Taxonomy')\n",
    "taxonomy_df.head()"
   ]
  }
 ],
 "metadata": {
  "kernelspec": {
   "display_name": "venv",
   "language": "python",
   "name": "python3"
  },
  "language_info": {
   "codemirror_mode": {
    "name": "ipython",
    "version": 3
   },
   "file_extension": ".py",
   "mimetype": "text/x-python",
   "name": "python",
   "nbconvert_exporter": "python",
   "pygments_lexer": "ipython3",
   "version": "3.12.10"
  }
 },
 "nbformat": 4,
 "nbformat_minor": 2
}
